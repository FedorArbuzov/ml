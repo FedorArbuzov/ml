{
 "cells": [
  {
   "cell_type": "code",
   "execution_count": 2,
   "metadata": {},
   "outputs": [
    {
     "name": "stdout",
     "output_type": "stream",
     "text": [
      "digit_recogmizer.ipynb\n",
      "homework1\n",
      "homework5\n",
      "mnist_model.json\n",
      "model.h5\n",
      "prediction.csv\n",
      "sample_submission.csv\n",
      "test.csv\n",
      "train.csv\n",
      "Untitled1.ipynb\n",
      "Untitled.ipynb\n",
      "\n"
     ]
    }
   ],
   "source": [
    "# This Python 3 environment comes with many helpful analytics libraries installed\n",
    "# It is defined by the kaggle/python docker image: https://github.com/kaggle/docker-python\n",
    "# For example, here's several helpful packages to load in \n",
    "\n",
    "import numpy as np # linear algebra\n",
    "import pandas as pd # data processing, CSV file I/O (e.g. pd.read_csv)\n",
    "\n",
    "# Input data files are available in the \"../input/\" directory.\n",
    "# For example, running this (by clicking run or pressing Shift+Enter) will list the files in the input directory\n",
    "\n",
    "from subprocess import check_output\n",
    "print(check_output([\"ls\", \".\"]).decode(\"utf8\"))\n",
    "\n",
    "# Any results you write to the current directory are saved as output."
   ]
  },
  {
   "cell_type": "code",
   "execution_count": 3,
   "metadata": {},
   "outputs": [],
   "source": [
    "import matplotlib.pyplot as plt\n",
    "%matplotlib inline"
   ]
  },
  {
   "cell_type": "code",
   "execution_count": 4,
   "metadata": {},
   "outputs": [
    {
     "name": "stderr",
     "output_type": "stream",
     "text": [
      "/home/f.arbuzov/anaconda3/lib/python3.6/site-packages/h5py/__init__.py:36: FutureWarning: Conversion of the second argument of issubdtype from `float` to `np.floating` is deprecated. In future, it will be treated as `np.float64 == np.dtype(float).type`.\n",
      "  from ._conv import register_converters as _register_converters\n",
      "Using TensorFlow backend.\n"
     ]
    }
   ],
   "source": [
    "from keras.models import Sequential\n",
    "from keras.layers import Dense, Dropout, Lambda, Flatten\n",
    "from keras.optimizers import Adam, RMSprop\n",
    "from sklearn.model_selection import train_test_split"
   ]
  },
  {
   "cell_type": "code",
   "execution_count": 5,
   "metadata": {},
   "outputs": [],
   "source": [
    "train = pd.read_csv(\"train.csv\")\n",
    "test_images = (pd.read_csv(\"test.csv\").values).astype('float32')"
   ]
  },
  {
   "cell_type": "code",
   "execution_count": 6,
   "metadata": {},
   "outputs": [
    {
     "name": "stderr",
     "output_type": "stream",
     "text": [
      "/home/f.arbuzov/anaconda3/lib/python3.6/site-packages/ipykernel_launcher.py:1: DeprecationWarning: \n",
      ".ix is deprecated. Please use\n",
      ".loc for label based indexing or\n",
      ".iloc for positional indexing\n",
      "\n",
      "See the documentation here:\n",
      "http://pandas.pydata.org/pandas-docs/stable/indexing.html#ix-indexer-is-deprecated\n",
      "  \"\"\"Entry point for launching an IPython kernel.\n"
     ]
    }
   ],
   "source": [
    "train_images = (train.ix[:, 1:].values).astype('float32')\n",
    "train_labels = train['label'].values.astype('int32')"
   ]
  },
  {
   "cell_type": "code",
   "execution_count": 7,
   "metadata": {},
   "outputs": [
    {
     "data": {
      "text/plain": [
       "array([1, 0, 1, ..., 7, 6, 9], dtype=int32)"
      ]
     },
     "execution_count": 7,
     "metadata": {},
     "output_type": "execute_result"
    }
   ],
   "source": [
    "train_labels"
   ]
  },
  {
   "cell_type": "code",
   "execution_count": 8,
   "metadata": {},
   "outputs": [
    {
     "data": {
      "text/plain": [
       "(42000, 784)"
      ]
     },
     "execution_count": 8,
     "metadata": {},
     "output_type": "execute_result"
    }
   ],
   "source": [
    "train_images.shape"
   ]
  },
  {
   "cell_type": "code",
   "execution_count": 9,
   "metadata": {},
   "outputs": [
    {
     "data": {
      "image/png": "[encoded data removed]",
      "text/plain": [
       "<Figure size 432x288 with 5 Axes>"
      ]
     },
     "metadata": {},
     "output_type": "display_data"
    }
   ],
   "source": [
    "train_images = train_images.reshape(train_images.shape[0], 28, 28)\n",
    "\n",
    "for i in range(4,9):\n",
    "    plt.subplot(330 + (i+1))\n",
    "    plt.imshow(train_images[i], cmap=plt.get_cmap('gray'))\n",
    "    plt.title(train_labels[i])"
   ]
  },
  {
   "cell_type": "code",
   "execution_count": 10,
   "metadata": {},
   "outputs": [],
   "source": [
    "train_images = train_images.reshape((42000, 28 * 28))"
   ]
  },
  {
   "cell_type": "code",
   "execution_count": 11,
   "metadata": {},
   "outputs": [],
   "source": [
    "train_images = train_images/255\n",
    "test_images = test_images/255"
   ]
  },
  {
   "cell_type": "code",
   "execution_count": 12,
   "metadata": {},
   "outputs": [
    {
     "data": {
      "text/plain": [
       "10"
      ]
     },
     "execution_count": 12,
     "metadata": {},
     "output_type": "execute_result"
    }
   ],
   "source": [
    "from keras.utils.np_utils import to_categorical\n",
    "train_labels = to_categorical(train_labels)\n",
    "num_classes = train_labels.shape[1]\n",
    "num_classes"
   ]
  },
  {
   "cell_type": "code",
   "execution_count": 13,
   "metadata": {},
   "outputs": [
    {
     "data": {
      "image/png": "[encoded data removed]",
      "text/plain": [
       "<Figure size 432x288 with 1 Axes>"
      ]
     },
     "metadata": {},
     "output_type": "display_data"
    }
   ],
   "source": [
    "plt.title(train_labels[9])\n",
    "plt.plot(train_labels[9])\n",
    "plt.xticks(range(10));"
   ]
  },
  {
   "cell_type": "code",
   "execution_count": 14,
   "metadata": {},
   "outputs": [],
   "source": [
    "seed = 43\n",
    "np.random.seed(seed)"
   ]
  },
  {
   "cell_type": "code",
   "execution_count": 15,
   "metadata": {},
   "outputs": [
    {
     "data": {
      "text/plain": [
       "(42000, 784)"
      ]
     },
     "execution_count": 15,
     "metadata": {},
     "output_type": "execute_result"
    }
   ],
   "source": [
    "train_images.shape"
   ]
  },
  {
   "cell_type": "code",
   "execution_count": 16,
   "metadata": {},
   "outputs": [],
   "source": [
    "from keras.models import Sequential\n",
    "from keras.layers import Dense, Dropout"
   ]
  },
  {
   "cell_type": "code",
   "execution_count": 17,
   "metadata": {},
   "outputs": [],
   "source": [
    "model = Sequential()\n",
    "model.add(Dense(32, activation='relu', input_dim=(28*28)))\n",
    "model.add(Dense(16, activation='relu'))\n",
    "model.add(Dense(10, activation='softmax'))"
   ]
  },
  {
   "cell_type": "code",
   "execution_count": 18,
   "metadata": {},
   "outputs": [],
   "source": [
    "from keras.optimizers import RMSprop"
   ]
  },
  {
   "cell_type": "code",
   "execution_count": 19,
   "metadata": {},
   "outputs": [],
   "source": [
    "model.compile(optimizer=RMSprop(lr=0.001),\n",
    "             loss='categorical_crossentropy',\n",
    "             metrics=['accuracy'])"
   ]
  },
  {
   "cell_type": "code",
   "execution_count": 20,
   "metadata": {},
   "outputs": [
    {
     "name": "stdout",
     "output_type": "stream",
     "text": [
      "Train on 39900 samples, validate on 2100 samples\n",
      "Epoch 1/25\n",
      "39900/39900 [==============================] - 3s 82us/step - loss: 0.5150 - acc: 0.8484 - val_loss: 0.3029 - val_acc: 0.9181\n",
      "Epoch 2/25\n",
      "39900/39900 [==============================] - 3s 68us/step - loss: 0.2241 - acc: 0.9346 - val_loss: 0.2262 - val_acc: 0.9390\n",
      "Epoch 3/25\n",
      "39900/39900 [==============================] - 3s 74us/step - loss: 0.1789 - acc: 0.9478 - val_loss: 0.1993 - val_acc: 0.9452\n",
      "Epoch 4/25\n",
      "39900/39900 [==============================] - 3s 74us/step - loss: 0.1522 - acc: 0.9545 - val_loss: 0.1947 - val_acc: 0.9495\n",
      "Epoch 5/25\n",
      "39900/39900 [==============================] - 3s 70us/step - loss: 0.1346 - acc: 0.9596 - val_loss: 0.1695 - val_acc: 0.9552\n",
      "Epoch 6/25\n",
      "39900/39900 [==============================] - 3s 73us/step - loss: 0.1202 - acc: 0.9636 - val_loss: 0.1659 - val_acc: 0.9529\n",
      "Epoch 7/25\n",
      "39900/39900 [==============================] - 3s 72us/step - loss: 0.1091 - acc: 0.9666 - val_loss: 0.1554 - val_acc: 0.9576\n",
      "Epoch 8/25\n",
      "39900/39900 [==============================] - 3s 67us/step - loss: 0.0997 - acc: 0.9703 - val_loss: 0.1521 - val_acc: 0.9610\n",
      "Epoch 9/25\n",
      "39900/39900 [==============================] - 3s 67us/step - loss: 0.0926 - acc: 0.9719 - val_loss: 0.1631 - val_acc: 0.9590\n",
      "Epoch 10/25\n",
      "39900/39900 [==============================] - 3s 69us/step - loss: 0.0855 - acc: 0.9739 - val_loss: 0.1673 - val_acc: 0.9571\n",
      "Epoch 11/25\n",
      "39900/39900 [==============================] - 3s 75us/step - loss: 0.0794 - acc: 0.9759 - val_loss: 0.1747 - val_acc: 0.9543\n",
      "Epoch 12/25\n",
      "39900/39900 [==============================] - 3s 70us/step - loss: 0.0751 - acc: 0.9769 - val_loss: 0.1677 - val_acc: 0.9571\n",
      "Epoch 13/25\n",
      "39900/39900 [==============================] - 3s 74us/step - loss: 0.0706 - acc: 0.9783 - val_loss: 0.1773 - val_acc: 0.9524\n",
      "Epoch 14/25\n",
      "39900/39900 [==============================] - 3s 75us/step - loss: 0.0660 - acc: 0.9801 - val_loss: 0.1783 - val_acc: 0.9590\n",
      "Epoch 15/25\n",
      "39900/39900 [==============================] - 3s 72us/step - loss: 0.0633 - acc: 0.9806 - val_loss: 0.1600 - val_acc: 0.9581\n",
      "Epoch 16/25\n",
      "39900/39900 [==============================] - 3s 71us/step - loss: 0.0594 - acc: 0.9817 - val_loss: 0.1617 - val_acc: 0.9595\n",
      "Epoch 17/25\n",
      "39900/39900 [==============================] - 3s 66us/step - loss: 0.0560 - acc: 0.9832 - val_loss: 0.1817 - val_acc: 0.9576\n",
      "Epoch 18/25\n",
      "39900/39900 [==============================] - 3s 63us/step - loss: 0.0531 - acc: 0.9839 - val_loss: 0.1736 - val_acc: 0.9633\n",
      "Epoch 19/25\n",
      "39900/39900 [==============================] - 3s 72us/step - loss: 0.0508 - acc: 0.9843 - val_loss: 0.1737 - val_acc: 0.9610\n",
      "Epoch 20/25\n",
      "39900/39900 [==============================] - 3s 67us/step - loss: 0.0486 - acc: 0.9851 - val_loss: 0.1690 - val_acc: 0.9619\n",
      "Epoch 21/25\n",
      "39900/39900 [==============================] - 3s 72us/step - loss: 0.0462 - acc: 0.9856 - val_loss: 0.1775 - val_acc: 0.9614\n",
      "Epoch 22/25\n",
      "39900/39900 [==============================] - 3s 72us/step - loss: 0.0438 - acc: 0.9867 - val_loss: 0.1831 - val_acc: 0.9595\n",
      "Epoch 23/25\n",
      "39900/39900 [==============================] - 3s 67us/step - loss: 0.0421 - acc: 0.9875 - val_loss: 0.1815 - val_acc: 0.9619\n",
      "Epoch 24/25\n",
      "39900/39900 [==============================] - 3s 74us/step - loss: 0.0402 - acc: 0.9878 - val_loss: 0.1826 - val_acc: 0.9571\n",
      "Epoch 25/25\n",
      "39900/39900 [==============================] - 3s 68us/step - loss: 0.0382 - acc: 0.9884 - val_loss: 0.1850 - val_acc: 0.9610\n"
     ]
    }
   ],
   "source": [
    "history=model.fit(train_images, train_labels, validation_split=0.05,\n",
    "                 epochs=25, batch_size=64)"
   ]
  },
  {
   "cell_type": "code",
   "execution_count": 21,
   "metadata": {},
   "outputs": [
    {
     "data": {
      "text/plain": [
       "dict_keys(['val_loss', 'val_acc', 'loss', 'acc'])"
      ]
     },
     "execution_count": 21,
     "metadata": {},
     "output_type": "execute_result"
    }
   ],
   "source": [
    "history_dict = history.history\n",
    "history_dict.keys()"
   ]
  },
  {
   "cell_type": "code",
   "execution_count": 22,
   "metadata": {},
   "outputs": [],
   "source": [
    "loss_values = history_dict['loss']\n",
    "val_loss_values = history_dict['val_loss']\n",
    "epochs = range(1, len(loss_values) + 1)"
   ]
  },
  {
   "cell_type": "code",
   "execution_count": 23,
   "metadata": {},
   "outputs": [
    {
     "data": {
      "text/plain": [
       "Text(0,0.5,'Loss')"
      ]
     },
     "execution_count": 23,
     "metadata": {},
     "output_type": "execute_result"
    },
    {
     "data": {
      "image/png": "[encoded data removed]",
      "text/plain": [
       "<Figure size 432x288 with 1 Axes>"
      ]
     },
     "metadata": {},
     "output_type": "display_data"
    }
   ],
   "source": [
    "plt.plot(epochs, loss_values, 'bo')\n",
    "plt.plot(epochs, val_loss_values, 'b+')\n",
    "plt.xlabel('Epochs')\n",
    "plt.ylabel('Loss')"
   ]
  },
  {
   "cell_type": "code",
   "execution_count": 24,
   "metadata": {},
   "outputs": [],
   "source": [
    "acc_values = history_dict['acc']\n",
    "val_acc_values = history_dict['val_acc']"
   ]
  },
  {
   "cell_type": "code",
   "execution_count": 25,
   "metadata": {},
   "outputs": [
    {
     "data": {
      "image/png": "[encoded data removed]",
      "text/plain": [
       "<Figure size 432x288 with 1 Axes>"
      ]
     },
     "metadata": {},
     "output_type": "display_data"
    }
   ],
   "source": [
    "plt.plot(epochs, acc_values, 'bo')\n",
    "plt.plot(epochs, val_acc_values, 'b+')\n",
    "plt.xlabel('Epochs')\n",
    "plt.ylabel('Accuracy')\n",
    "\n",
    "plt.show()"
   ]
  },
  {
   "cell_type": "code",
   "execution_count": 26,
   "metadata": {},
   "outputs": [
    {
     "name": "stdout",
     "output_type": "stream",
     "text": [
      "Epoch 1/15\n",
      "42000/42000 [==============================] - 5s 108us/step - loss: 1.1876 - acc: 0.6646\n",
      "Epoch 2/15\n",
      "42000/42000 [==============================] - 4s 103us/step - loss: 0.4763 - acc: 0.8580\n",
      "Epoch 3/15\n",
      "42000/42000 [==============================] - 4s 98us/step - loss: 0.3564 - acc: 0.8947\n",
      "Epoch 4/15\n",
      "42000/42000 [==============================] - 4s 103us/step - loss: 0.2981 - acc: 0.9117\n",
      "Epoch 5/15\n",
      "42000/42000 [==============================] - 4s 96us/step - loss: 0.2637 - acc: 0.9222\n",
      "Epoch 6/15\n",
      "42000/42000 [==============================] - 4s 98us/step - loss: 0.2368 - acc: 0.9307\n",
      "Epoch 7/15\n",
      "42000/42000 [==============================] - 4s 101us/step - loss: 0.2141 - acc: 0.9368\n",
      "Epoch 8/15\n",
      "42000/42000 [==============================] - 4s 97us/step - loss: 0.1989 - acc: 0.9408\n",
      "Epoch 9/15\n",
      "42000/42000 [==============================] - 4s 105us/step - loss: 0.1824 - acc: 0.9460\n",
      "Epoch 10/15\n",
      "42000/42000 [==============================] - 4s 98us/step - loss: 0.1709 - acc: 0.9478\n",
      "Epoch 11/15\n",
      "42000/42000 [==============================] - 4s 98us/step - loss: 0.1602 - acc: 0.9520\n",
      "Epoch 12/15\n",
      "42000/42000 [==============================] - 4s 97us/step - loss: 0.1506 - acc: 0.9551\n",
      "Epoch 13/15\n",
      "42000/42000 [==============================] - 4s 105us/step - loss: 0.1417 - acc: 0.9574\n",
      "Epoch 14/15\n",
      "42000/42000 [==============================] - 4s 95us/step - loss: 0.1344 - acc: 0.9609\n",
      "Epoch 15/15\n",
      "42000/42000 [==============================] - 4s 104us/step - loss: 0.1281 - acc: 0.9611\n"
     ]
    }
   ],
   "source": [
    "model = Sequential()\n",
    "model.add(Dense(64, activation='relu', input_dim=(28*28)))\n",
    "model.add(Dense(128, activation='relu'))\n",
    "model.add(Dropout(0.15))\n",
    "model.add(Dense(64, activation='relu'))\n",
    "model.add(Dropout(0.15))\n",
    "model.add(Dense(10, activation='softmax'))\n",
    "\n",
    "model.compile(optimizer=RMSprop(lr=0.0001), loss='categorical_crossentropy', metrics=['accuracy'])\n",
    "history=model.fit(train_images, train_labels, epochs=15, batch_size=64)"
   ]
  },
  {
   "cell_type": "code",
   "execution_count": 27,
   "metadata": {},
   "outputs": [],
   "source": [
    "predictions = model.predict_classes(test_images, verbose=0)\n",
    "submissions=pd.DataFrame({'ImageId':list(range(1,len(predictions) + 1)), \"Label\": predictions})\n",
    "submissions.to_csv(\"DR.csv\", index=False, header=True)"
   ]
  }
 ],
 "metadata": {
  "kernelspec": {
   "display_name": "Python 3",
   "language": "python",
   "name": "python3"
  },
  "language_info": {
   "codemirror_mode": {
    "name": "ipython",
    "version": 3
   },
   "file_extension": ".py",
   "mimetype": "text/x-python",
   "name": "python",
   "nbconvert_exporter": "python",
   "pygments_lexer": "ipython3",
   "version": "3.6.5"
  }
 },
 "nbformat": 4,
 "nbformat_minor": 2
}
